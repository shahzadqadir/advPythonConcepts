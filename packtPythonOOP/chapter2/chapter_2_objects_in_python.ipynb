{
 "cells": [
  {
   "cell_type": "code",
   "execution_count": 1,
   "id": "6cc273a0",
   "metadata": {},
   "outputs": [],
   "source": [
    "class Point:\n",
    "    pass"
   ]
  },
  {
   "cell_type": "code",
   "execution_count": 2,
   "id": "9b9d0691",
   "metadata": {},
   "outputs": [],
   "source": [
    "p1 = Point()"
   ]
  },
  {
   "cell_type": "code",
   "execution_count": 3,
   "id": "e48ef8af",
   "metadata": {},
   "outputs": [
    {
     "data": {
      "text/plain": [
       "<__main__.Point at 0x7f58e4660730>"
      ]
     },
     "execution_count": 3,
     "metadata": {},
     "output_type": "execute_result"
    }
   ],
   "source": [
    "p1"
   ]
  },
  {
   "cell_type": "code",
   "execution_count": 4,
   "id": "60eaab79",
   "metadata": {},
   "outputs": [],
   "source": [
    "p1.x = 5\n",
    "p1.y = 10"
   ]
  },
  {
   "cell_type": "code",
   "execution_count": 5,
   "id": "ac96fcac",
   "metadata": {},
   "outputs": [
    {
     "data": {
      "text/plain": [
       "(5, 10)"
      ]
     },
     "execution_count": 5,
     "metadata": {},
     "output_type": "execute_result"
    }
   ],
   "source": [
    "p1.x, p1.y"
   ]
  },
  {
   "cell_type": "code",
   "execution_count": 13,
   "id": "a55cca38",
   "metadata": {},
   "outputs": [],
   "source": [
    "def print_message(self):\n",
    "    print(\"I don't like this assigning of variables not defined in the class definition!\")"
   ]
  },
  {
   "cell_type": "code",
   "execution_count": 14,
   "id": "f48c240a",
   "metadata": {},
   "outputs": [],
   "source": [
    "p2 = Point()\n",
    "p1.z = print_message"
   ]
  },
  {
   "cell_type": "code",
   "execution_count": 17,
   "id": "b6496080",
   "metadata": {},
   "outputs": [
    {
     "name": "stdout",
     "output_type": "stream",
     "text": [
      "I don't like this assigning of variables not defined in the class definition!\n"
     ]
    }
   ],
   "source": [
    "p1.z(p2)"
   ]
  },
  {
   "cell_type": "markdown",
   "id": "4c73695a",
   "metadata": {},
   "source": [
    "#### Variables assigned to object without declaring in class definition\n",
    "So you see you can define variables for an object which were not even defined in the class definition. You can also create functions and assign them to class object as variables and later use them! VERY Interesting"
   ]
  },
  {
   "cell_type": "code",
   "execution_count": 19,
   "id": "7287a19b",
   "metadata": {},
   "outputs": [],
   "source": [
    "class Point:\n",
    "    def reset(self):\n",
    "        self.x = 0\n",
    "        self.y = 0"
   ]
  },
  {
   "cell_type": "code",
   "execution_count": 24,
   "id": "e09b07fc",
   "metadata": {},
   "outputs": [],
   "source": [
    "p1 = Point()"
   ]
  },
  {
   "cell_type": "code",
   "execution_count": 25,
   "id": "5c12a0d3",
   "metadata": {},
   "outputs": [],
   "source": [
    "p1.x = 5\n",
    "p1.y = 10"
   ]
  },
  {
   "cell_type": "code",
   "execution_count": 26,
   "id": "58b20d89",
   "metadata": {},
   "outputs": [
    {
     "data": {
      "text/plain": [
       "(5, 10)"
      ]
     },
     "execution_count": 26,
     "metadata": {},
     "output_type": "execute_result"
    }
   ],
   "source": [
    "p1.x, p1.y"
   ]
  },
  {
   "cell_type": "code",
   "execution_count": 27,
   "id": "7d014628",
   "metadata": {},
   "outputs": [],
   "source": [
    "p1.reset()"
   ]
  },
  {
   "cell_type": "code",
   "execution_count": 28,
   "id": "b7152cbf",
   "metadata": {},
   "outputs": [
    {
     "data": {
      "text/plain": [
       "(0, 0)"
      ]
     },
     "execution_count": 28,
     "metadata": {},
     "output_type": "execute_result"
    }
   ],
   "source": [
    "p1.x, p1.y"
   ]
  },
  {
   "cell_type": "code",
   "execution_count": 29,
   "id": "426c13c0",
   "metadata": {},
   "outputs": [],
   "source": [
    "class Point:\n",
    "    def move(self, x, y):\n",
    "        self.x = x\n",
    "        self.y = y"
   ]
  },
  {
   "cell_type": "code",
   "execution_count": 30,
   "id": "68c763c8",
   "metadata": {},
   "outputs": [],
   "source": [
    "p = Point()"
   ]
  },
  {
   "cell_type": "code",
   "execution_count": 31,
   "id": "b2672a06",
   "metadata": {},
   "outputs": [],
   "source": [
    "p.x = 5"
   ]
  },
  {
   "cell_type": "code",
   "execution_count": 32,
   "id": "34dc6aa3",
   "metadata": {},
   "outputs": [],
   "source": [
    "p.y = 10"
   ]
  },
  {
   "cell_type": "code",
   "execution_count": 33,
   "id": "0eacb3f7",
   "metadata": {},
   "outputs": [],
   "source": [
    "p.move(10, 15)"
   ]
  },
  {
   "cell_type": "code",
   "execution_count": 34,
   "id": "bc110847",
   "metadata": {},
   "outputs": [
    {
     "data": {
      "text/plain": [
       "(10, 15)"
      ]
     },
     "execution_count": 34,
     "metadata": {},
     "output_type": "execute_result"
    }
   ],
   "source": [
    "p.x, p.y"
   ]
  },
  {
   "cell_type": "code",
   "execution_count": 37,
   "id": "58afe30d",
   "metadata": {},
   "outputs": [],
   "source": [
    "class Point:\n",
    "    def move(self, x, y):\n",
    "        self.x = x\n",
    "        self.y = y\n",
    "        \n",
    "    def reset(self):\n",
    "        self.move(0, 0)"
   ]
  },
  {
   "cell_type": "code",
   "execution_count": 38,
   "id": "d85fb6d8",
   "metadata": {},
   "outputs": [],
   "source": [
    "p1 = Point()"
   ]
  },
  {
   "cell_type": "code",
   "execution_count": 39,
   "id": "e13d25de",
   "metadata": {},
   "outputs": [],
   "source": [
    "p1.x = 10\n",
    "p1.y = 20"
   ]
  },
  {
   "cell_type": "code",
   "execution_count": 40,
   "id": "b99f925c",
   "metadata": {},
   "outputs": [],
   "source": [
    "p1.move(100, 200)"
   ]
  },
  {
   "cell_type": "code",
   "execution_count": 41,
   "id": "e8283c25",
   "metadata": {},
   "outputs": [
    {
     "data": {
      "text/plain": [
       "<__main__.Point at 0x7f58e46375b0>"
      ]
     },
     "execution_count": 41,
     "metadata": {},
     "output_type": "execute_result"
    }
   ],
   "source": [
    "p1"
   ]
  },
  {
   "cell_type": "code",
   "execution_count": 42,
   "id": "40f0bac3",
   "metadata": {},
   "outputs": [
    {
     "data": {
      "text/plain": [
       "(100, 200)"
      ]
     },
     "execution_count": 42,
     "metadata": {},
     "output_type": "execute_result"
    }
   ],
   "source": [
    "p1.x, p1.y"
   ]
  },
  {
   "cell_type": "code",
   "execution_count": 43,
   "id": "bb58c4ca",
   "metadata": {},
   "outputs": [],
   "source": [
    "p1.reset()"
   ]
  },
  {
   "cell_type": "code",
   "execution_count": 44,
   "id": "ab6264ca",
   "metadata": {},
   "outputs": [
    {
     "data": {
      "text/plain": [
       "(0, 0)"
      ]
     },
     "execution_count": 44,
     "metadata": {},
     "output_type": "execute_result"
    }
   ],
   "source": [
    "p1.x, p1.y"
   ]
  },
  {
   "cell_type": "code",
   "execution_count": 46,
   "id": "4b20d4bd",
   "metadata": {},
   "outputs": [],
   "source": [
    "from math import sqrt"
   ]
  },
  {
   "cell_type": "code",
   "execution_count": 47,
   "id": "119e333f",
   "metadata": {},
   "outputs": [],
   "source": [
    "\n",
    "class Point:\n",
    "    def move(self, x, y):\n",
    "        self.x = x\n",
    "        self.y = y\n",
    "        \n",
    "    def reset(self):\n",
    "        self.move(0, 0)\n",
    "        \n",
    "    def calculate_distance(self, other_point):\n",
    "        return sqrt((self.x - other_point.x)**2 + (self.y - other_point.y)**2)\n",
    "        "
   ]
  },
  {
   "cell_type": "code",
   "execution_count": 48,
   "id": "1cc5879f",
   "metadata": {},
   "outputs": [],
   "source": [
    "p1 = Point()"
   ]
  },
  {
   "cell_type": "code",
   "execution_count": 49,
   "id": "26585e68",
   "metadata": {},
   "outputs": [],
   "source": [
    "p1.x = 10"
   ]
  },
  {
   "cell_type": "code",
   "execution_count": 50,
   "id": "4472ee74",
   "metadata": {},
   "outputs": [],
   "source": [
    "p1.y = 20"
   ]
  },
  {
   "cell_type": "code",
   "execution_count": 51,
   "id": "bf37fe76",
   "metadata": {},
   "outputs": [],
   "source": [
    "p2 = Point()"
   ]
  },
  {
   "cell_type": "code",
   "execution_count": 52,
   "id": "bc7b23c6",
   "metadata": {},
   "outputs": [],
   "source": [
    "p2.x = 5"
   ]
  },
  {
   "cell_type": "code",
   "execution_count": 53,
   "id": "14d96937",
   "metadata": {},
   "outputs": [],
   "source": [
    "p2.y = 10"
   ]
  },
  {
   "cell_type": "code",
   "execution_count": 54,
   "id": "83cbb150",
   "metadata": {},
   "outputs": [
    {
     "data": {
      "text/plain": [
       "11.180339887498949"
      ]
     },
     "execution_count": 54,
     "metadata": {},
     "output_type": "execute_result"
    }
   ],
   "source": [
    "p1.calculate_distance(p2)"
   ]
  },
  {
   "cell_type": "code",
   "execution_count": 56,
   "id": "85ef83c3",
   "metadata": {},
   "outputs": [],
   "source": [
    "p3 = Point()\n",
    "p3.x = 10\n",
    "p3.y = 20"
   ]
  },
  {
   "cell_type": "code",
   "execution_count": 57,
   "id": "13ce6363",
   "metadata": {},
   "outputs": [
    {
     "data": {
      "text/plain": [
       "0.0"
      ]
     },
     "execution_count": 57,
     "metadata": {},
     "output_type": "execute_result"
    }
   ],
   "source": [
    "p1.calculate_distance(p3)"
   ]
  },
  {
   "cell_type": "markdown",
   "id": "3ed3b420",
   "metadata": {},
   "source": [
    "<b> There is an initializer method in Python and also a constructor method - constructor is VERY rarely used. I have never seen it being used.</b>\n",
    "Initializer is defined with a __init__(self) and constructor is defined with __new__() wihout passing the object and it returns a python class object."
   ]
  },
  {
   "cell_type": "code",
   "execution_count": 58,
   "id": "23f6abd6",
   "metadata": {},
   "outputs": [],
   "source": [
    "class Point:\n",
    "    \"\"\" A class to represent a point in a 2D space.\"\"\"\n",
    "    \n",
    "    def __init__(self, x=0, y=0):\n",
    "        \"\"\"Allow user to create a 2D point, if no x and y co-oridinate is provided, it defaults to a (0,0) point.\"\"\"\n",
    "        self.x = x\n",
    "        self.y= y\n",
    "        \n",
    "    def move(self, x, y):\n",
    "        \"\"\" Takes a x and y value and move the 2D point to new position accordingly.\"\"\"\n",
    "        self.x = x\n",
    "        self.y = y\n",
    "        \n",
    "    def reset(self, x, y):\n",
    "        \"\"\"Reset the value of a point back to (0,0)\"\"\"\n",
    "        self.move(0, 0)\n",
    "        \n",
    "    def calculate_distance(self, other_point):\n",
    "        \"\"\"Calculate the distance between two 2D points\n",
    "        \n",
    "        Uses Pathagoras theorm to come to the distance, returns a floating point distance value.\n",
    "        \"\"\"\n",
    "        return sqrt((self.x - other_point.x)**2 + (self.y - other_point.y)**2)"
   ]
  },
  {
   "cell_type": "code",
   "execution_count": 59,
   "id": "5bb0acbe",
   "metadata": {},
   "outputs": [],
   "source": [
    "p1 = Point(5, 10)"
   ]
  },
  {
   "cell_type": "code",
   "execution_count": 60,
   "id": "0f463eab",
   "metadata": {},
   "outputs": [
    {
     "data": {
      "text/plain": [
       "<__main__.Point at 0x7f58d520bd00>"
      ]
     },
     "execution_count": 60,
     "metadata": {},
     "output_type": "execute_result"
    }
   ],
   "source": [
    "p1"
   ]
  },
  {
   "cell_type": "code",
   "execution_count": 61,
   "id": "15cd8cec",
   "metadata": {},
   "outputs": [
    {
     "data": {
      "text/plain": [
       "(5, 10)"
      ]
     },
     "execution_count": 61,
     "metadata": {},
     "output_type": "execute_result"
    }
   ],
   "source": [
    "p1.x, p1.y"
   ]
  },
  {
   "cell_type": "code",
   "execution_count": 62,
   "id": "41a8202d",
   "metadata": {},
   "outputs": [],
   "source": [
    "p2 = Point(10, 20)"
   ]
  },
  {
   "cell_type": "code",
   "execution_count": 63,
   "id": "da498040",
   "metadata": {},
   "outputs": [
    {
     "data": {
      "text/plain": [
       "11.180339887498949"
      ]
     },
     "execution_count": 63,
     "metadata": {},
     "output_type": "execute_result"
    }
   ],
   "source": [
    "p1.calculate_distance(p2)"
   ]
  },
  {
   "cell_type": "code",
   "execution_count": 64,
   "id": "7039548d",
   "metadata": {},
   "outputs": [],
   "source": [
    "p3 = Point()"
   ]
  },
  {
   "cell_type": "code",
   "execution_count": 65,
   "id": "9d2d4cc0",
   "metadata": {},
   "outputs": [
    {
     "data": {
      "text/plain": [
       "11.180339887498949"
      ]
     },
     "execution_count": 65,
     "metadata": {},
     "output_type": "execute_result"
    }
   ],
   "source": [
    "p1.calculate_distance(p3)"
   ]
  },
  {
   "cell_type": "code",
   "execution_count": 66,
   "id": "6ac665a8",
   "metadata": {},
   "outputs": [
    {
     "data": {
      "text/plain": [
       "(0, 0)"
      ]
     },
     "execution_count": 66,
     "metadata": {},
     "output_type": "execute_result"
    }
   ],
   "source": [
    "p3.x, p3.y"
   ]
  },
  {
   "cell_type": "code",
   "execution_count": 67,
   "id": "ef9092c0",
   "metadata": {},
   "outputs": [
    {
     "data": {
      "text/plain": [
       "(5, 10)"
      ]
     },
     "execution_count": 67,
     "metadata": {},
     "output_type": "execute_result"
    }
   ],
   "source": [
    "p1.x, p1.y"
   ]
  },
  {
   "cell_type": "code",
   "execution_count": 68,
   "id": "b50ddbe9",
   "metadata": {},
   "outputs": [
    {
     "data": {
      "text/plain": [
       "(10, 20)"
      ]
     },
     "execution_count": 68,
     "metadata": {},
     "output_type": "execute_result"
    }
   ],
   "source": [
    "p2.x, p2.y"
   ]
  },
  {
   "cell_type": "code",
   "execution_count": 69,
   "id": "9fb09a12",
   "metadata": {},
   "outputs": [
    {
     "data": {
      "text/plain": [
       "11.180339887498949"
      ]
     },
     "execution_count": 69,
     "metadata": {},
     "output_type": "execute_result"
    }
   ],
   "source": [
    "p1.calculate_distance(p2)"
   ]
  },
  {
   "cell_type": "code",
   "execution_count": 70,
   "id": "e8403077",
   "metadata": {},
   "outputs": [
    {
     "data": {
      "text/plain": [
       "11.180339887498949"
      ]
     },
     "execution_count": 70,
     "metadata": {},
     "output_type": "execute_result"
    }
   ],
   "source": [
    "p1.calculate_distance(p3)"
   ]
  },
  {
   "cell_type": "code",
   "execution_count": 71,
   "id": "14f44b08",
   "metadata": {},
   "outputs": [
    {
     "data": {
      "text/plain": [
       "0.0"
      ]
     },
     "execution_count": 71,
     "metadata": {},
     "output_type": "execute_result"
    }
   ],
   "source": [
    "p1.calculate_distance(p1)"
   ]
  },
  {
   "cell_type": "code",
   "execution_count": 72,
   "id": "d5c269e1",
   "metadata": {},
   "outputs": [
    {
     "name": "stdout",
     "output_type": "stream",
     "text": [
      "Help on Point in module __main__ object:\n",
      "\n",
      "class Point(builtins.object)\n",
      " |  Point(x=0, y=0)\n",
      " |  \n",
      " |  A class to represent a point in a 2D space.\n",
      " |  \n",
      " |  Methods defined here:\n",
      " |  \n",
      " |  __init__(self, x=0, y=0)\n",
      " |      Allow user to create a 2D point, if no x and y co-oridinate is provided, it defaults to a (0,0) point.\n",
      " |  \n",
      " |  calculate_distance(self, other_point)\n",
      " |      Calculate the distance between two 2D points\n",
      " |      \n",
      " |      Uses Pathagoras theorm to come to the distance, returns a floating point distance value.\n",
      " |  \n",
      " |  move(self, x, y)\n",
      " |      Takes a x and y value and move the 2D point to new position accordingly.\n",
      " |  \n",
      " |  reset(self, x, y)\n",
      " |      Reset the value of a point back to (0,0)\n",
      " |  \n",
      " |  ----------------------------------------------------------------------\n",
      " |  Data descriptors defined here:\n",
      " |  \n",
      " |  __dict__\n",
      " |      dictionary for instance variables (if defined)\n",
      " |  \n",
      " |  __weakref__\n",
      " |      list of weak references to the object (if defined)\n",
      "\n"
     ]
    }
   ],
   "source": [
    "help(p1)"
   ]
  },
  {
   "cell_type": "code",
   "execution_count": 73,
   "id": "8255fe7f",
   "metadata": {},
   "outputs": [
    {
     "data": {
      "text/plain": [
       "['__class__',\n",
       " '__delattr__',\n",
       " '__dict__',\n",
       " '__dir__',\n",
       " '__doc__',\n",
       " '__eq__',\n",
       " '__format__',\n",
       " '__ge__',\n",
       " '__getattribute__',\n",
       " '__gt__',\n",
       " '__hash__',\n",
       " '__init__',\n",
       " '__init_subclass__',\n",
       " '__le__',\n",
       " '__lt__',\n",
       " '__module__',\n",
       " '__ne__',\n",
       " '__new__',\n",
       " '__reduce__',\n",
       " '__reduce_ex__',\n",
       " '__repr__',\n",
       " '__setattr__',\n",
       " '__sizeof__',\n",
       " '__str__',\n",
       " '__subclasshook__',\n",
       " '__weakref__',\n",
       " 'calculate_distance',\n",
       " 'move',\n",
       " 'reset',\n",
       " 'x',\n",
       " 'y']"
      ]
     },
     "execution_count": 73,
     "metadata": {},
     "output_type": "execute_result"
    }
   ],
   "source": [
    "dir(p1)"
   ]
  },
  {
   "cell_type": "markdown",
   "id": "2d3ec7ea",
   "metadata": {},
   "source": [
    "### Interesting definitions!!!"
   ]
  },
  {
   "cell_type": "markdown",
   "id": "21f60843",
   "metadata": {},
   "source": [
    "#### Module\n",
    "Module is just a python file that has classes in it."
   ]
  },
  {
   "cell_type": "markdown",
   "id": "7982c735",
   "metadata": {},
   "source": [
    "#### Package\n",
    "A package is a collection of modules inside a folder\n",
    "\n",
    "<p>A folder can be converted into a package by adding an empty \"__init__.py\" file</p>"
   ]
  },
  {
   "cell_type": "markdown",
   "id": "777a10e2",
   "metadata": {},
   "source": [
    "##### Example module structure\n",
    "\n",
    "<p>\n",
    "parent_directory/\n",
    "├── ecommerce\n",
    "│   ├── database.py\n",
    "│   ├── __init__.py\n",
    "│   ├── payments\n",
    "│   │   ├── __init__.py\n",
    "│   │   ├── square.py\n",
    "│   │   └── stripe.py\n",
    "│   └── products.py\n",
    "└── main.py\n",
    "</p>\n",
    "\n",
    "<font color=\"red\">double click on this cell to view properly</font>\n"
   ]
  },
  {
   "cell_type": "markdown",
   "id": "7fd5edb0",
   "metadata": {},
   "source": [
    "### Importing a Package"
   ]
  },
  {
   "cell_type": "code",
   "execution_count": 9,
   "id": "8cfd4abf",
   "metadata": {},
   "outputs": [],
   "source": [
    "#### Absolute import"
   ]
  },
  {
   "cell_type": "code",
   "execution_count": 10,
   "id": "e1d8c820",
   "metadata": {},
   "outputs": [],
   "source": [
    "# imports are like package.module (package folder and python classes file)"
   ]
  },
  {
   "cell_type": "code",
   "execution_count": 11,
   "id": "71809612",
   "metadata": {},
   "outputs": [],
   "source": [
    "# example below"
   ]
  },
  {
   "cell_type": "code",
   "execution_count": 12,
   "id": "56b1d5b6",
   "metadata": {},
   "outputs": [],
   "source": [
    "# import ecommerce.products                --- import proudcuts module from ecommerce package"
   ]
  },
  {
   "cell_type": "code",
   "execution_count": 13,
   "id": "ce189ecd",
   "metadata": {},
   "outputs": [],
   "source": [
    "# prod = ecommerce.products.Product()      --- create a class defined in products module"
   ]
  },
  {
   "cell_type": "code",
   "execution_count": 14,
   "id": "d434fa24",
   "metadata": {},
   "outputs": [],
   "source": [
    "### Another way can be like below"
   ]
  },
  {
   "cell_type": "code",
   "execution_count": 15,
   "id": "d70889aa",
   "metadata": {},
   "outputs": [],
   "source": [
    "# from ecommerce.products import Product   ---- from package/module import class"
   ]
  },
  {
   "cell_type": "code",
   "execution_count": 16,
   "id": "0d63b099",
   "metadata": {},
   "outputs": [],
   "source": [
    "# prod = Product()"
   ]
  },
  {
   "cell_type": "markdown",
   "id": "bff416cf",
   "metadata": {},
   "source": [
    "<font size=4 color=\"green\">Interestingly, we can also instantiate a class as well inside a module and then import that object instead of the class using same sytax as above examples.</font>"
   ]
  },
  {
   "cell_type": "code",
   "execution_count": 18,
   "id": "0b30bac3",
   "metadata": {},
   "outputs": [],
   "source": [
    "# below is inside a database.py file\n",
    "# for example\n",
    "class Database:\n",
    "    pass\n",
    "\n",
    "db = Database()"
   ]
  },
  {
   "cell_type": "code",
   "execution_count": 19,
   "id": "5c3258ce",
   "metadata": {},
   "outputs": [],
   "source": [
    "# from database import db"
   ]
  },
  {
   "cell_type": "code",
   "execution_count": 20,
   "id": "4e019132",
   "metadata": {},
   "outputs": [],
   "source": [
    "class SecretString:\n",
    "    def __init__(self, plain_string, pass_phrase):\n",
    "        self.__plain_string = plain_string\n",
    "        self.__pass_phrase = pass_phrase\n",
    "\n",
    "    def decrypt(self, pass_phrase):\n",
    "        if pass_phrase == self.__pass_phrase:\n",
    "            return self.__plain_string\n",
    "        else:\n",
    "            return \"\""
   ]
  },
  {
   "cell_type": "code",
   "execution_count": 21,
   "id": "f2078bf6",
   "metadata": {},
   "outputs": [],
   "source": [
    "test = SecretString(\"I am Shahzad\", \"mypass\")"
   ]
  },
  {
   "cell_type": "code",
   "execution_count": 22,
   "id": "94b0e9ed",
   "metadata": {},
   "outputs": [
    {
     "data": {
      "text/plain": [
       "'I am Shahzad'"
      ]
     },
     "execution_count": 22,
     "metadata": {},
     "output_type": "execute_result"
    }
   ],
   "source": [
    "test.decrypt(\"mypass\")"
   ]
  },
  {
   "cell_type": "code",
   "execution_count": 23,
   "id": "098b7cb6",
   "metadata": {},
   "outputs": [
    {
     "data": {
      "text/plain": [
       "''"
      ]
     },
     "execution_count": 23,
     "metadata": {},
     "output_type": "execute_result"
    }
   ],
   "source": [
    "test.decrypt(\"anypass\")"
   ]
  },
  {
   "cell_type": "code",
   "execution_count": 24,
   "id": "b54a8877",
   "metadata": {},
   "outputs": [
    {
     "ename": "AttributeError",
     "evalue": "'SecretString' object has no attribute '__pass_phrase'",
     "output_type": "error",
     "traceback": [
      "\u001b[0;31m---------------------------------------------------------------------------\u001b[0m",
      "\u001b[0;31mAttributeError\u001b[0m                            Traceback (most recent call last)",
      "\u001b[0;32m/tmp/ipykernel_5316/3010532967.py\u001b[0m in \u001b[0;36m<module>\u001b[0;34m\u001b[0m\n\u001b[0;32m----> 1\u001b[0;31m \u001b[0mtest\u001b[0m\u001b[0;34m.\u001b[0m\u001b[0m__pass_phrase\u001b[0m\u001b[0;34m\u001b[0m\u001b[0;34m\u001b[0m\u001b[0m\n\u001b[0m",
      "\u001b[0;31mAttributeError\u001b[0m: 'SecretString' object has no attribute '__pass_phrase'"
     ]
    }
   ],
   "source": [
    "test.__pass_phrase"
   ]
  },
  {
   "cell_type": "code",
   "execution_count": 25,
   "id": "2b6a6d5e",
   "metadata": {},
   "outputs": [
    {
     "ename": "AttributeError",
     "evalue": "'SecretString' object has no attribute '__plain_string'",
     "output_type": "error",
     "traceback": [
      "\u001b[0;31m---------------------------------------------------------------------------\u001b[0m",
      "\u001b[0;31mAttributeError\u001b[0m                            Traceback (most recent call last)",
      "\u001b[0;32m/tmp/ipykernel_5316/482387778.py\u001b[0m in \u001b[0;36m<module>\u001b[0;34m\u001b[0m\n\u001b[0;32m----> 1\u001b[0;31m \u001b[0mtest\u001b[0m\u001b[0;34m.\u001b[0m\u001b[0m__plain_string\u001b[0m\u001b[0;34m\u001b[0m\u001b[0;34m\u001b[0m\u001b[0m\n\u001b[0m",
      "\u001b[0;31mAttributeError\u001b[0m: 'SecretString' object has no attribute '__plain_string'"
     ]
    }
   ],
   "source": [
    "test.__plain_string"
   ]
  },
  {
   "cell_type": "markdown",
   "id": "6be4767f",
   "metadata": {},
   "source": [
    "##### As anything else in python, privacy is not enforced\n",
    "<p>\n",
    "_variable_name/method_name suggests to programmers to not access this method/variable directly but they are accessible.\n",
    "__variable_name/method_name is called name mangling and makes it harder to access class variable/method directly but it is still possible.\n",
    "</p>"
   ]
  },
  {
   "cell_type": "code",
   "execution_count": 27,
   "id": "a7b2b533",
   "metadata": {},
   "outputs": [
    {
     "data": {
      "text/plain": [
       "'I am Shahzad'"
      ]
     },
     "execution_count": 27,
     "metadata": {},
     "output_type": "execute_result"
    }
   ],
   "source": [
    "test._SecretString__plain_string"
   ]
  },
  {
   "cell_type": "markdown",
   "id": "9c423892",
   "metadata": {},
   "source": [
    "</p>\n",
    "when double underscore is used to define, property is prefixed with class name. When methods inside the class access double underscored proprty, name unmangling is done automatically but when proprty is accessed from outside, then name mangling need to be done manually.\n",
    "</p>"
   ]
  },
  {
   "cell_type": "code",
   "execution_count": 1,
   "id": "1cd11a1e",
   "metadata": {},
   "outputs": [],
   "source": [
    "class Test:\n",
    "    def __init__(self):\n",
    "        self._x = 10"
   ]
  },
  {
   "cell_type": "code",
   "execution_count": 2,
   "id": "435790ca",
   "metadata": {},
   "outputs": [],
   "source": [
    "t1 = Test()"
   ]
  },
  {
   "cell_type": "code",
   "execution_count": 3,
   "id": "54842d6f",
   "metadata": {},
   "outputs": [
    {
     "data": {
      "text/plain": [
       "10"
      ]
     },
     "execution_count": 3,
     "metadata": {},
     "output_type": "execute_result"
    }
   ],
   "source": [
    "t1._x"
   ]
  },
  {
   "cell_type": "code",
   "execution_count": 4,
   "id": "58c0ac73",
   "metadata": {},
   "outputs": [],
   "source": [
    "class Test:\n",
    "    def __init__(self):\n",
    "        self.__x = 10"
   ]
  },
  {
   "cell_type": "code",
   "execution_count": 5,
   "id": "5ac5adba",
   "metadata": {},
   "outputs": [],
   "source": [
    "t1 = Test()"
   ]
  },
  {
   "cell_type": "code",
   "execution_count": 6,
   "id": "09c0c6c5",
   "metadata": {},
   "outputs": [
    {
     "ename": "AttributeError",
     "evalue": "'Test' object has no attribute '__x'",
     "output_type": "error",
     "traceback": [
      "\u001b[0;31m---------------------------------------------------------------------------\u001b[0m",
      "\u001b[0;31mAttributeError\u001b[0m                            Traceback (most recent call last)",
      "\u001b[0;32m/tmp/ipykernel_3725/3265804191.py\u001b[0m in \u001b[0;36m<module>\u001b[0;34m\u001b[0m\n\u001b[0;32m----> 1\u001b[0;31m \u001b[0mt1\u001b[0m\u001b[0;34m.\u001b[0m\u001b[0m__x\u001b[0m\u001b[0;34m\u001b[0m\u001b[0;34m\u001b[0m\u001b[0m\n\u001b[0m",
      "\u001b[0;31mAttributeError\u001b[0m: 'Test' object has no attribute '__x'"
     ]
    }
   ],
   "source": [
    "t1.__x"
   ]
  },
  {
   "cell_type": "code",
   "execution_count": 7,
   "id": "709ed835",
   "metadata": {},
   "outputs": [
    {
     "ename": "AttributeError",
     "evalue": "'Test' object has no attribute '_x'",
     "output_type": "error",
     "traceback": [
      "\u001b[0;31m---------------------------------------------------------------------------\u001b[0m",
      "\u001b[0;31mAttributeError\u001b[0m                            Traceback (most recent call last)",
      "\u001b[0;32m/tmp/ipykernel_3725/393756499.py\u001b[0m in \u001b[0;36m<module>\u001b[0;34m\u001b[0m\n\u001b[0;32m----> 1\u001b[0;31m \u001b[0mt1\u001b[0m\u001b[0;34m.\u001b[0m\u001b[0m_x\u001b[0m\u001b[0;34m\u001b[0m\u001b[0;34m\u001b[0m\u001b[0m\n\u001b[0m",
      "\u001b[0;31mAttributeError\u001b[0m: 'Test' object has no attribute '_x'"
     ]
    }
   ],
   "source": [
    "t1._x"
   ]
  },
  {
   "cell_type": "code",
   "execution_count": 10,
   "id": "e3f13242",
   "metadata": {},
   "outputs": [
    {
     "ename": "AttributeError",
     "evalue": "'Test' object has no attribute '_Test'",
     "output_type": "error",
     "traceback": [
      "\u001b[0;31m---------------------------------------------------------------------------\u001b[0m",
      "\u001b[0;31mAttributeError\u001b[0m                            Traceback (most recent call last)",
      "\u001b[0;32m/tmp/ipykernel_3725/2358190857.py\u001b[0m in \u001b[0;36m<module>\u001b[0;34m\u001b[0m\n\u001b[0;32m----> 1\u001b[0;31m \u001b[0mt1\u001b[0m\u001b[0;34m.\u001b[0m\u001b[0m_Test\u001b[0m\u001b[0;34m.\u001b[0m\u001b[0m__x\u001b[0m\u001b[0;34m\u001b[0m\u001b[0;34m\u001b[0m\u001b[0m\n\u001b[0m",
      "\u001b[0;31mAttributeError\u001b[0m: 'Test' object has no attribute '_Test'"
     ]
    }
   ],
   "source": [
    "t1._Test.__x"
   ]
  },
  {
   "cell_type": "code",
   "execution_count": 11,
   "id": "0f63427f",
   "metadata": {},
   "outputs": [
    {
     "data": {
      "text/plain": [
       "<__main__.Test at 0x7f324c78ba30>"
      ]
     },
     "execution_count": 11,
     "metadata": {},
     "output_type": "execute_result"
    }
   ],
   "source": [
    "t1"
   ]
  },
  {
   "cell_type": "code",
   "execution_count": 12,
   "id": "f1b2745c",
   "metadata": {},
   "outputs": [],
   "source": [
    "class Test2:\n",
    "    def __init__(self):\n",
    "        self.__x = 1000"
   ]
  },
  {
   "cell_type": "code",
   "execution_count": 13,
   "id": "d1a664cc",
   "metadata": {},
   "outputs": [],
   "source": [
    "t2 = Test2()"
   ]
  },
  {
   "cell_type": "code",
   "execution_count": 14,
   "id": "eb741143",
   "metadata": {},
   "outputs": [
    {
     "data": {
      "text/plain": [
       "1000"
      ]
     },
     "execution_count": 14,
     "metadata": {},
     "output_type": "execute_result"
    }
   ],
   "source": [
    "t2._Test2__x"
   ]
  },
  {
   "cell_type": "code",
   "execution_count": 15,
   "id": "5fa24cf8",
   "metadata": {},
   "outputs": [],
   "source": [
    "import datetime"
   ]
  },
  {
   "cell_type": "code",
   "execution_count": 17,
   "id": "8c309ff4",
   "metadata": {},
   "outputs": [
    {
     "data": {
      "text/plain": [
       "datetime.date(2021, 10, 4)"
      ]
     },
     "execution_count": 17,
     "metadata": {},
     "output_type": "execute_result"
    }
   ],
   "source": [
    "datetime.datetime.now().date()"
   ]
  },
  {
   "cell_type": "code",
   "execution_count": 18,
   "id": "d4b8a1ee",
   "metadata": {},
   "outputs": [
    {
     "data": {
      "text/plain": [
       "datetime.date(2021, 10, 4)"
      ]
     },
     "execution_count": 18,
     "metadata": {},
     "output_type": "execute_result"
    }
   ],
   "source": [
    "datetime.date.today()"
   ]
  },
  {
   "cell_type": "code",
   "execution_count": null,
   "id": "8ca1400e",
   "metadata": {},
   "outputs": [],
   "source": []
  }
 ],
 "metadata": {
  "kernelspec": {
   "display_name": "Python 3 (ipykernel)",
   "language": "python",
   "name": "python3"
  },
  "language_info": {
   "codemirror_mode": {
    "name": "ipython",
    "version": 3
   },
   "file_extension": ".py",
   "mimetype": "text/x-python",
   "name": "python",
   "nbconvert_exporter": "python",
   "pygments_lexer": "ipython3",
   "version": "3.8.10"
  }
 },
 "nbformat": 4,
 "nbformat_minor": 5
}
