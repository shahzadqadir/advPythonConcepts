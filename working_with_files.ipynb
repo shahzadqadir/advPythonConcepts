{
 "cells": [
  {
   "cell_type": "markdown",
   "metadata": {},
   "source": [
    "<h1> Working with files in Python </h1>"
   ]
  },
  {
   "cell_type": "markdown",
   "metadata": {},
   "source": [
    "<h3> 1. You can open file simply by using below open statement but this is not recommended </h3>"
   ]
  },
  {
   "cell_type": "code",
   "execution_count": 19,
   "metadata": {},
   "outputs": [],
   "source": [
    "# file can be opened for \n",
    "# reading using 'r' as second parameter\n",
    "# writing using 'w'\n",
    "# appending using 'a'\n",
    "# reading and wriring using 'r+'\n",
    "# if no second parameter is specified, default is reading\n",
    "\n",
    "f = open('test.txt', 'r')    # will need complete path if file is not in the same direcotry as python script"
   ]
  },
  {
   "cell_type": "code",
   "execution_count": 17,
   "metadata": {},
   "outputs": [
    {
     "data": {
      "text/plain": [
       "'1) This is a test file!\\n2) With multiple lines of data ...\\n3) Third line\\n4) Fourth line\\n5) Fifth line\\n6) Sixth line\\n7) Seventh line\\n8) Eighth line\\n9) Nith line\\n10) Tenth line'"
      ]
     },
     "execution_count": 17,
     "metadata": {},
     "output_type": "execute_result"
    }
   ],
   "source": [
    "f.read()"
   ]
  },
  {
   "cell_type": "code",
   "execution_count": 22,
   "metadata": {},
   "outputs": [
    {
     "data": {
      "text/plain": [
       "'test.txt'"
      ]
     },
     "execution_count": 22,
     "metadata": {},
     "output_type": "execute_result"
    }
   ],
   "source": [
    "f.name"
   ]
  },
  {
   "cell_type": "code",
   "execution_count": 21,
   "metadata": {},
   "outputs": [
    {
     "data": {
      "text/plain": [
       "'r'"
      ]
     },
     "execution_count": 21,
     "metadata": {},
     "output_type": "execute_result"
    }
   ],
   "source": [
    "f.mode"
   ]
  },
  {
   "cell_type": "code",
   "execution_count": 23,
   "metadata": {},
   "outputs": [],
   "source": [
    "# you will need to explicitly close the file opened using open statement\n",
    "f.close()"
   ]
  },
  {
   "cell_type": "markdown",
   "metadata": {},
   "source": [
    "<h3> 2. Using a context manager. You will need to use with </h3>"
   ]
  },
  {
   "cell_type": "code",
   "execution_count": 25,
   "metadata": {},
   "outputs": [],
   "source": [
    "with open('test.txt', 'r') as f:\n",
    "    # after this block of code is executed, file is automatically closed\n",
    "    # even though file is closed, we will still have access to the above f variable\n",
    "    pass"
   ]
  },
  {
   "cell_type": "code",
   "execution_count": 28,
   "metadata": {},
   "outputs": [
    {
     "data": {
      "text/plain": [
       "True"
      ]
     },
     "execution_count": 28,
     "metadata": {},
     "output_type": "execute_result"
    }
   ],
   "source": [
    "f.closed       # see file is closed but we still have access to the f varaiable"
   ]
  },
  {
   "cell_type": "code",
   "execution_count": 30,
   "metadata": {},
   "outputs": [
    {
     "ename": "ValueError",
     "evalue": "I/O operation on closed file.",
     "output_type": "error",
     "traceback": [
      "\u001b[0;31m---------------------------------------------------------------------------\u001b[0m",
      "\u001b[0;31mValueError\u001b[0m                                Traceback (most recent call last)",
      "\u001b[0;32m<ipython-input-30-f9412f587b92>\u001b[0m in \u001b[0;36m<module>\u001b[0;34m\u001b[0m\n\u001b[0;32m----> 1\u001b[0;31m \u001b[0mf\u001b[0m\u001b[0;34m.\u001b[0m\u001b[0mread\u001b[0m\u001b[0;34m(\u001b[0m\u001b[0;34m)\u001b[0m      \u001b[0;31m# but we can't read contents of file as that is already closed\u001b[0m\u001b[0;34m\u001b[0m\u001b[0;34m\u001b[0m\u001b[0m\n\u001b[0m",
      "\u001b[0;31mValueError\u001b[0m: I/O operation on closed file."
     ]
    }
   ],
   "source": [
    "f.read()      # but we can't read contents of file as that is already closed"
   ]
  },
  {
   "cell_type": "code",
   "execution_count": 42,
   "metadata": {},
   "outputs": [
    {
     "data": {
      "text/plain": [
       "'test.txt'"
      ]
     },
     "execution_count": 42,
     "metadata": {},
     "output_type": "execute_result"
    }
   ],
   "source": [
    "f.name"
   ]
  },
  {
   "cell_type": "markdown",
   "metadata": {},
   "source": [
    "<h4>  >>> i) Read entire file as a single string using read() function </h4>"
   ]
  },
  {
   "cell_type": "code",
   "execution_count": 32,
   "metadata": {},
   "outputs": [],
   "source": [
    "with open('test.txt') as f:\n",
    "    f_contents = f.read()   # reads contents file in a single string, useful for small files"
   ]
  },
  {
   "cell_type": "code",
   "execution_count": 34,
   "metadata": {},
   "outputs": [
    {
     "data": {
      "text/plain": [
       "'1) This is a test file!\\n2) With multiple lines of data ...\\n3) Third line\\n4) Fourth line\\n5) Fifth line\\n6) Sixth line\\n7) Seventh line\\n8) Eighth line\\n9) Nith line\\n10) Tenth line'"
      ]
     },
     "execution_count": 34,
     "metadata": {},
     "output_type": "execute_result"
    }
   ],
   "source": [
    "f_contents                 # notice variable still is available after file closed"
   ]
  },
  {
   "cell_type": "code",
   "execution_count": 35,
   "metadata": {},
   "outputs": [
    {
     "name": "stdout",
     "output_type": "stream",
     "text": [
      "1) This is a test file!\n",
      "2) With multiple lines of data ...\n",
      "3) Third line\n",
      "4) Fourth line\n",
      "5) Fifth line\n",
      "6) Sixth line\n",
      "7) Seventh line\n",
      "8) Eighth line\n",
      "9) Nith line\n",
      "10) Tenth line\n"
     ]
    }
   ],
   "source": [
    "print(f_contents)"
   ]
  },
  {
   "cell_type": "markdown",
   "metadata": {},
   "source": [
    "<h4> >>> ii) Read a single line using readline() function </h4>"
   ]
  },
  {
   "cell_type": "code",
   "execution_count": 36,
   "metadata": {},
   "outputs": [],
   "source": [
    "with open('test.txt') as f:\n",
    "    f_contents = f.readline()    # reads first line of the file"
   ]
  },
  {
   "cell_type": "code",
   "execution_count": 38,
   "metadata": {},
   "outputs": [
    {
     "data": {
      "text/plain": [
       "'1) This is a test file!\\n'"
      ]
     },
     "execution_count": 38,
     "metadata": {},
     "output_type": "execute_result"
    }
   ],
   "source": [
    "f_contents"
   ]
  },
  {
   "cell_type": "markdown",
   "metadata": {},
   "source": [
    "<h4> >>> iii) Read all lines as a list of strings using readlines() function </h4>"
   ]
  },
  {
   "cell_type": "code",
   "execution_count": 40,
   "metadata": {},
   "outputs": [],
   "source": [
    "with open('test.txt') as f:\n",
    "    f_contents = f.readlines()"
   ]
  },
  {
   "cell_type": "code",
   "execution_count": 41,
   "metadata": {
    "scrolled": true
   },
   "outputs": [
    {
     "data": {
      "text/plain": [
       "['1) This is a test file!\\n',\n",
       " '2) With multiple lines of data ...\\n',\n",
       " '3) Third line\\n',\n",
       " '4) Fourth line\\n',\n",
       " '5) Fifth line\\n',\n",
       " '6) Sixth line\\n',\n",
       " '7) Seventh line\\n',\n",
       " '8) Eighth line\\n',\n",
       " '9) Nith line\\n',\n",
       " '10) Tenth line']"
      ]
     },
     "execution_count": 41,
     "metadata": {},
     "output_type": "execute_result"
    }
   ],
   "source": [
    "f_contents"
   ]
  },
  {
   "cell_type": "markdown",
   "metadata": {},
   "source": [
    "<p><font color = \"red\"> <b>NOTE:</b> <br> We will need something more robust for longer files to save memory<br>\n",
    "    We can also use a for loop to extract contents of a file.\n",
    "    </p>"
   ]
  },
  {
   "cell_type": "code",
   "execution_count": 45,
   "metadata": {},
   "outputs": [
    {
     "name": "stdout",
     "output_type": "stream",
     "text": [
      "1) This is a test file!\n",
      "\n",
      "2) With multiple lines of data ...\n",
      "\n",
      "3) Third line\n",
      "\n",
      "4) Fourth line\n",
      "\n",
      "5) Fifth line\n",
      "\n",
      "6) Sixth line\n",
      "\n",
      "7) Seventh line\n",
      "\n",
      "8) Eighth line\n",
      "\n",
      "9) Nith line\n",
      "\n",
      "10) Tenth line\n"
     ]
    }
   ],
   "source": [
    "with open('test.txt', 'r') as f:\n",
    "    for line in f:\n",
    "        print(line)"
   ]
  },
  {
   "cell_type": "code",
   "execution_count": 46,
   "metadata": {},
   "outputs": [],
   "source": [
    "# remove /n from above print"
   ]
  },
  {
   "cell_type": "code",
   "execution_count": 47,
   "metadata": {},
   "outputs": [
    {
     "name": "stdout",
     "output_type": "stream",
     "text": [
      "1) This is a test file!\n",
      "2) With multiple lines of data ...\n",
      "3) Third line\n",
      "4) Fourth line\n",
      "5) Fifth line\n",
      "6) Sixth line\n",
      "7) Seventh line\n",
      "8) Eighth line\n",
      "9) Nith line\n",
      "10) Tenth line"
     ]
    }
   ],
   "source": [
    "with open('test.txt', 'r') as f:\n",
    "    for line in f:\n",
    "        print(line, end='')"
   ]
  },
  {
   "cell_type": "code",
   "execution_count": 51,
   "metadata": {},
   "outputs": [
    {
     "name": "stdout",
     "output_type": "stream",
     "text": [
      "1) This is a test file!\n",
      "2) With multiple lines of data ...\n",
      "3) Third line\n",
      "4) Fourth line\n",
      "5) Fifth line\n",
      "\n",
      "6) Sixth line\n",
      "7) Seventh line\n",
      "8) Eighth line\n",
      "9) Nith line\n",
      "10) Tenth line\n"
     ]
    }
   ],
   "source": [
    "with open('test.txt', 'r') as f:\n",
    "    \n",
    "    f_content = f.read(101)\n",
    "    print(f_content)\n",
    "    \n",
    "    f_content = f.read(100)\n",
    "    print(f_content)"
   ]
  },
  {
   "cell_type": "code",
   "execution_count": 52,
   "metadata": {},
   "outputs": [
    {
     "data": {
      "text/plain": [
       "'\\n6) Sixth line\\n7) Seventh line\\n8) Eighth line\\n9) Nith line\\n10) Tenth line'"
      ]
     },
     "execution_count": 52,
     "metadata": {},
     "output_type": "execute_result"
    }
   ],
   "source": [
    "f_content"
   ]
  },
  {
   "cell_type": "code",
   "execution_count": 57,
   "metadata": {},
   "outputs": [
    {
     "name": "stdout",
     "output_type": "stream",
     "text": [
      "1) This is a test file!\n",
      "2) With multiple lines of data ...\n",
      "3) Third line\n",
      "4) Fourth line\n",
      "5) Fifth line \n",
      "\n",
      "6) Sixth line\n",
      "7) Seventh line\n",
      "8) Eighth line\n",
      "9) Nith line\n",
      "10) Tenth line \n"
     ]
    }
   ],
   "source": [
    "with open('test.txt', 'r') as f:\n",
    "    f_content = f.read(101)\n",
    "    while len(f_content) > 0:\n",
    "        print(f_content, '')\n",
    "        f_content = f.read(100)"
   ]
  },
  {
   "cell_type": "markdown",
   "metadata": {},
   "source": [
    "<h4>Writing to files</h4>\n",
    "<p>Writing is simliar to reading files.</p>"
   ]
  },
  {
   "cell_type": "markdown",
   "metadata": {},
   "source": [
    "> <p>In write mode, files will be over-written and in append mode file will be appended to the end. <br>If a file don't exist it will be created in case of write mode.</p>"
   ]
  },
  {
   "cell_type": "code",
   "execution_count": 2,
   "metadata": {},
   "outputs": [],
   "source": [
    "with open(\"test2.txt\", 'w') as f:\n",
    "    f.write(\"test2\")"
   ]
  },
  {
   "cell_type": "markdown",
   "metadata": {},
   "source": [
    "above created a new test2.txt file and wrote test2 to it."
   ]
  },
  {
   "cell_type": "code",
   "execution_count": 3,
   "metadata": {},
   "outputs": [],
   "source": [
    "with open(\"test3.txt\", \"a\") as f:\n",
    "    f.write(\"tests3\")"
   ]
  },
  {
   "cell_type": "markdown",
   "metadata": {},
   "source": [
    "test3.txt didn't exist but it was created by above code. So we know both 'w' and 'a' mode will create a new file if it didn't exist."
   ]
  },
  {
   "cell_type": "code",
   "execution_count": 4,
   "metadata": {},
   "outputs": [],
   "source": [
    "with open(\"test4.txt\", \"r\") as infile:\n",
    "    with open(\"test4_copy.txt\", \"w\") as outfile:\n",
    "        for line in infile:\n",
    "            outfile.write(line)"
   ]
  },
  {
   "cell_type": "markdown",
   "metadata": {},
   "source": [
    "With above code I was able to copy text from test4.txt to a newly created test4_copy.txt"
   ]
  },
  {
   "cell_type": "markdown",
   "metadata": {},
   "source": [
    "# <u> Working with CSV files </u>"
   ]
  },
  {
   "cell_type": "markdown",
   "metadata": {},
   "source": [
    "You can use \"csv\" module to work with CSV files. Let's check out some exampels."
   ]
  },
  {
   "cell_type": "code",
   "execution_count": 1,
   "metadata": {},
   "outputs": [],
   "source": [
    "import csv"
   ]
  },
  {
   "cell_type": "code",
   "execution_count": 3,
   "metadata": {},
   "outputs": [],
   "source": [
    "filename = \"/home/python/Advanced_Python_Concepts/students.csv\"       # my example csv file"
   ]
  },
  {
   "cell_type": "markdown",
   "metadata": {},
   "source": [
    "opening file is similar to opening any other file type."
   ]
  },
  {
   "cell_type": "code",
   "execution_count": 4,
   "metadata": {},
   "outputs": [
    {
     "name": "stdout",
     "output_type": "stream",
     "text": [
      "<_csv.reader object at 0x7ff97801e750>\n"
     ]
    }
   ],
   "source": [
    "with open(filename) as csv_file:\n",
    "    csv_reader = csv.reader(csv_file)                # create a csv instance using filename\n",
    "    print(csv_reader)"
   ]
  },
  {
   "cell_type": "markdown",
   "metadata": {},
   "source": [
    "Above code creates a reader object, we will need to loop through it to get to the data."
   ]
  },
  {
   "cell_type": "code",
   "execution_count": 5,
   "metadata": {},
   "outputs": [
    {
     "name": "stdout",
     "output_type": "stream",
     "text": [
      "['Name', 'Marks']\n",
      "['Hamayal', '97']\n",
      "['Bilal', '96.5']\n",
      "['Hamza', '95.5']\n"
     ]
    }
   ],
   "source": [
    "with open(filename) as csv_file:\n",
    "    csv_reader = csv.reader(csv_file)                # create a csv instance using filename\n",
    "    for line in csv_reader:\n",
    "        print(line)"
   ]
  },
  {
   "cell_type": "markdown",
   "metadata": {},
   "source": [
    "### Writing to CSV files"
   ]
  },
  {
   "cell_type": "markdown",
   "metadata": {},
   "source": [
    "Similarly we can use writer to write to a CSV file. It is quite like writing to any other file type.<br>\n",
    "Let's copy contents of students.csv file into students_copy.csv file."
   ]
  },
  {
   "cell_type": "code",
   "execution_count": 7,
   "metadata": {},
   "outputs": [],
   "source": [
    "with open(filename) as file:\n",
    "    csv_reader = csv.reader(file)\n",
    "    with open(\"/home/python/Advanced_Python_Concepts/students_copy.csv\", \"w\") as file2:\n",
    "        csv_writer = csv.writer(file2)\n",
    "        for line in csv_reader:\n",
    "            csv_writer.writerow(line)"
   ]
  },
  {
   "cell_type": "markdown",
   "metadata": {},
   "source": [
    "#### Using DictReader and DictWriter\n",
    "DictReader returns an object with a list of dictionaries which we can loop through to get vaules. We can also use dictionary keys to get to certain values."
   ]
  },
  {
   "cell_type": "code",
   "execution_count": 8,
   "metadata": {},
   "outputs": [
    {
     "name": "stdout",
     "output_type": "stream",
     "text": [
      "OrderedDict([('Name', 'Hamayal'), ('Marks', '97')])\n",
      "OrderedDict([('Name', 'Bilal'), ('Marks', '96.5')])\n",
      "OrderedDict([('Name', 'Hamza'), ('Marks', '95.5')])\n"
     ]
    }
   ],
   "source": [
    "with open(filename) as file:\n",
    "    csv_reader = csv.DictReader(file)\n",
    "    for line in csv_reader:\n",
    "        print(line)"
   ]
  },
  {
   "cell_type": "markdown",
   "metadata": {},
   "source": [
    "if we just wanted to print out names from the list. we could use below"
   ]
  },
  {
   "cell_type": "code",
   "execution_count": 11,
   "metadata": {},
   "outputs": [
    {
     "name": "stdout",
     "output_type": "stream",
     "text": [
      "Hamayal\n",
      "Bilal\n",
      "Hamza\n"
     ]
    }
   ],
   "source": [
    "with open(filename) as file:\n",
    "    csv_reader = csv.DictReader(file)\n",
    "    for line in csv_reader:\n",
    "        print(line['Name'])"
   ]
  },
  {
   "cell_type": "markdown",
   "metadata": {},
   "source": [
    "<b>Writing using DictWriter</b>"
   ]
  },
  {
   "cell_type": "code",
   "execution_count": null,
   "metadata": {},
   "outputs": [],
   "source": [
    "with open(\"/home/python/Advanced_Python_Concepts/cust_details.txt\") as file:\n",
    "    with open(\"/home/python/Advanced_Python_Concepts/cust_copy.csv\", \"w\") as file2:\n",
    "        fieldnames = ['first_name', 'second_name', 'email_address']\n",
    "        csv_writer = csv.\n",
    "        "
   ]
  }
 ],
 "metadata": {
  "kernelspec": {
   "display_name": "jupyter3.7-venv",
   "language": "python",
   "name": "jupyter3.7-venv"
  },
  "language_info": {
   "codemirror_mode": {
    "name": "ipython",
    "version": 3
   },
   "file_extension": ".py",
   "mimetype": "text/x-python",
   "name": "python",
   "nbconvert_exporter": "python",
   "pygments_lexer": "ipython3",
   "version": "3.7.5"
  }
 },
 "nbformat": 4,
 "nbformat_minor": 4
}
